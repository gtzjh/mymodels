{
 "cells": [
  {
   "cell_type": "code",
   "execution_count": 6,
   "metadata": {},
   "outputs": [],
   "source": [
    "import numpy as np\n",
    "import pandas as pd\n",
    "\n",
    "\n",
    "from mymodels import data_engineer\n",
    "from mymodels import MyModel"
   ]
  },
  {
   "cell_type": "code",
   "execution_count": 7,
   "metadata": {},
   "outputs": [],
   "source": [
    "mymodel = MyModel(random_state = 0)"
   ]
  },
  {
   "cell_type": "code",
   "execution_count": 8,
   "metadata": {},
   "outputs": [],
   "source": [
    "data_engineer_pipeline = data_engineer(\n",
    "    outlier_cols = None,\n",
    "    missing_values_cols = None,\n",
    "    impute_method = None,\n",
    "    # cat_features = [\"Gender\", \"family_history_with_overweight\", \"FAVC\", \"CAEC\", \"SMOKE\", \"SCC\", \"CALC\", \"MTRANS\"],\n",
    "    # encode_method = [\"ordinal\", \"ordinal\", \"ordinal\", \"ordinal\", \"ordinal\", \"ordinal\", \"ordinal\", \"ordinal\"],\n",
    "    # scale_cols = [\"Age\", \"Height\", \"Weight\"],\n",
    "    # scale_method = [\"standard\", \"standard\", \"standard\"],\n",
    "    n_jobs = 5,\n",
    "    verbose = False\n",
    ")"
   ]
  },
  {
   "cell_type": "code",
   "execution_count": 9,
   "metadata": {},
   "outputs": [
    {
     "name": "stderr",
     "output_type": "stream",
     "text": [
      "WARNING:root:Model <class 'lightgbm.sklearn.LGBMClassifier'> does not accept cat_features parameter. The provided cat_features value will be ignored.\n"
     ]
    }
   ],
   "source": [
    "data = pd.read_csv(\"data/obesity.zip\", encoding=\"utf-8\",\n",
    "                   na_values=np.nan, index_col=[\"id\"])\n",
    "\n",
    "mymodel.load(\n",
    "    model_name = \"catc\",\n",
    "    input_data = data,\n",
    "    y = \"NObeyesdad\",\n",
    "    x_list = [\"Gender\",\"Age\",\"Height\",\"Weight\",\\\n",
    "              \"family_history_with_overweight\",\\\n",
    "              \"FAVC\",\"FCVC\",\"NCP\",\"CAEC\",\"SMOKE\",\\\n",
    "              \"CH2O\",\"SCC\",\"FAF\",\"TUE\",\"CALC\",\"MTRANS\"],\n",
    "    test_ratio = 0.3,\n",
    "    stratify = False,\n",
    "    data_engineer_pipeline = data_engineer_pipeline,\n",
    "    cat_features = [\"Gender\", \"family_history_with_overweight\", \"FAVC\", \"CAEC\", \"SMOKE\", \"SCC\", \"CALC\", \"MTRANS\"],\n",
    "    model_configs_path = \"model_configs.yml\"\n",
    ")"
   ]
  },
  {
   "cell_type": "code",
   "execution_count": 10,
   "metadata": {},
   "outputs": [],
   "source": [
    "mymodel.format(\n",
    "    results_dir = \"results/obesity\",\n",
    "    show = False,\n",
    "    plot_format = \"jpg\",\n",
    "    plot_dpi = 300,\n",
    "    save_optimal_model = True,\n",
    "    save_raw_data = True,\n",
    "    save_shap_values = True\n",
    ")"
   ]
  },
  {
   "cell_type": "code",
   "execution_count": 11,
   "metadata": {},
   "outputs": [
    {
     "name": "stderr",
     "output_type": "stream",
     "text": [
      "WARNING:root:Data diagnosis will be performing on TRAINING DATASET ONLY!!!\n"
     ]
    },
    {
     "name": "stdout",
     "output_type": "stream",
     "text": [
      "\n",
      "Categorical Features Statistics:\n",
      "                  Feature Name  Count  Null Count Null Ratio  Unique Count Unique Ratio\n",
      "                        Gender  14530           0      0.00%             2        0.01%\n",
      "family_history_with_overweight  14530           0      0.00%             2        0.01%\n",
      "                          FAVC  14530           0      0.00%             2        0.01%\n",
      "                          CAEC  14530           0      0.00%             4        0.03%\n",
      "                         SMOKE  14530           0      0.00%             2        0.01%\n",
      "                           SCC  14530           0      0.00%             2        0.01%\n",
      "                          CALC  14530           0      0.00%             3        0.02%\n",
      "                        MTRANS  14530           0      0.00%             5        0.03%\n",
      "\n",
      "Numerical Features Statistics:\n",
      "Feature Name  Count  Null Count Null Ratio   Min   25% Median    75%    Max  Mean   Std Kurtosis Skewness\n",
      "         Age  14530           0      0.00% 14.00 20.00  22.83  26.00  61.00 23.86  5.73     4.05     1.65\n",
      "      Height  14530           0      0.00%  1.45  1.63   1.70   1.76   1.98  1.70  0.09    -0.59     0.01\n",
      "      Weight  14530           0      0.00% 39.00 66.00  84.49 111.56 165.06 87.84 26.37    -1.00     0.08\n",
      "        FCVC  14530           0      0.00%  1.00  2.00   2.39   3.00   3.00  2.45  0.53    -0.90    -0.35\n",
      "         NCP  14530           0      0.00%  1.00  3.00   3.00   3.00   4.00  2.76  0.71     1.81    -1.56\n",
      "        CH2O  14530           0      0.00%  1.00  1.78   2.00   2.55   3.00  2.03  0.61    -0.76    -0.21\n",
      "         FAF  14530           0      0.00%  0.00  0.02   1.00   1.59   3.00  0.98  0.84    -0.49     0.51\n",
      "         TUE  14530           0      0.00%  0.00  0.00   0.57   1.00   2.00  0.62  0.60    -0.41     0.67\n"
     ]
    }
   ],
   "source": [
    "mymodel.diagnose(sample_k = None)"
   ]
  },
  {
   "cell_type": "code",
   "execution_count": 12,
   "metadata": {},
   "outputs": [
    {
     "name": "stderr",
     "output_type": "stream",
     "text": [
      "Best trial: 78. Best value: 0.909911: 100%|██████████| 100/100 [22:00<00:00, 13.20s/it]\n"
     ]
    }
   ],
   "source": [
    "mymodel.optimize(\n",
    "    strategy = \"tpe\",\n",
    "    cv = 5,\n",
    "    trials = 100,\n",
    "    n_jobs = 5,\n",
    "    direction = \"maximize\",\n",
    "    eval_function = None\n",
    ")"
   ]
  },
  {
   "cell_type": "code",
   "execution_count": 13,
   "metadata": {},
   "outputs": [
    {
     "name": "stderr",
     "output_type": "stream",
     "text": [
      "WARNING:root:\n",
      "When using dummy estimator,                         a warning about zero division will be printed,                         JUST IGNORE IT.\n",
      "\n",
      "c:\\miniconda\\envs\\mymodels\\lib\\site-packages\\sklearn\\metrics\\_classification.py:1531: UndefinedMetricWarning: Precision is ill-defined and being set to 0.0 in labels with no predicted samples. Use `zero_division` parameter to control this behavior.\n",
      "  _warn_prf(average, modifier, f\"{metric.capitalize()} is\", len(result))\n",
      "c:\\miniconda\\envs\\mymodels\\lib\\site-packages\\sklearn\\metrics\\_classification.py:1531: UndefinedMetricWarning: Precision is ill-defined and being set to 0.0 in labels with no predicted samples. Use `zero_division` parameter to control this behavior.\n",
      "  _warn_prf(average, modifier, f\"{metric.capitalize()} is\", len(result))\n",
      "c:\\Users\\Administrator\\workspace\\mymodels\\mymodels\\plotting\\_plot_evaluated_classifier.py:259: UserWarning: Tight layout not applied. The left and right margins cannot be made large enough to accommodate all Axes decorations.\n",
      "  plt.tight_layout()\n"
     ]
    },
    {
     "name": "stdout",
     "output_type": "stream",
     "text": [
      "{\n",
      "    \"model\": {\n",
      "        \"test\": {\n",
      "            \"Overall Accuracy\": 0.9083172768143867,\n",
      "            \"Precision\": 0.9083154356310408,\n",
      "            \"Recall\": 0.9083172768143867,\n",
      "            \"F1\": 0.9082729356235455,\n",
      "            \"Kappa\": 0.8924475626415974\n",
      "        },\n",
      "        \"train\": {\n",
      "            \"Overall Accuracy\": 0.9530626290433586,\n",
      "            \"Precision\": 0.9529751820665949,\n",
      "            \"Recall\": 0.9530626290433586,\n",
      "            \"F1\": 0.9529726529980629,\n",
      "            \"Kappa\": 0.9449447296078889\n",
      "        }\n",
      "    },\n",
      "    \"dummy\": {\n",
      "        \"test\": {\n",
      "            \"Overall Accuracy\": 0.1920359666024406,\n",
      "            \"Precision\": 0.03687781246893368,\n",
      "            \"Recall\": 0.1920359666024406,\n",
      "            \"F1\": 0.061873657342812215,\n",
      "            \"Kappa\": 0.0\n",
      "        },\n",
      "        \"train\": {\n",
      "            \"Overall Accuracy\": 0.1961459050240881,\n",
      "            \"Precision\": 0.038473216057718584,\n",
      "            \"Recall\": 0.1961459050240881,\n",
      "            \"F1\": 0.0643286339837343,\n",
      "            \"Kappa\": 0.0\n",
      "        }\n",
      "    }\n",
      "}\n"
     ]
    }
   ],
   "source": [
    "mymodel.evaluate(\n",
    "    show_train = True,\n",
    "    dummy = True,\n",
    "    eval_metric = None\n",
    ")"
   ]
  },
  {
   "cell_type": "code",
   "execution_count": 14,
   "metadata": {},
   "outputs": [
    {
     "name": "stderr",
     "output_type": "stream",
     "text": [
      "c:\\miniconda\\envs\\mymodels\\lib\\site-packages\\shap\\plots\\_scatter.py:579: RuntimeWarning: More than 20 figures have been opened. Figures created through the pyplot interface (`matplotlib.pyplot.figure`) are retained until explicitly closed and may consume too much memory. (To control this warning, see the rcParam `figure.max_open_warning`). Consider using `matplotlib.pyplot.close()`.\n",
      "  fig = pl.figure(figsize=figsize)\n",
      "WARNING:root:\n",
      "PDP is not supported for multi-class classifier currently.\n",
      "Random forest and Decision tree in sklearn for binary classification\n",
      "are not supported either.\n",
      "\n"
     ]
    }
   ],
   "source": [
    "mymodel.explain(\n",
    "    select_background_data = \"train\",\n",
    "    select_shap_data = \"test\",\n",
    "    sample_background_data_k = 50,\n",
    "    sample_shap_data_k = 50\n",
    ")"
   ]
  },
  {
   "cell_type": "code",
   "execution_count": 15,
   "metadata": {},
   "outputs": [],
   "source": [
    "data_pred = pd.read_csv(\"data/obesity_test.csv\", encoding = \"utf-8\",\n",
    "                        na_values = np.nan, index_col = [\"id\"])\n",
    "\n",
    "data_pred = data_pred.loc[:, [\"Gender\",\"Age\",\"Height\",\"Weight\",\\\n",
    "                              \"family_history_with_overweight\",\\\n",
    "                              \"FAVC\",\"FCVC\",\"NCP\",\"CAEC\",\"SMOKE\",\\\n",
    "                              \"CH2O\",\"SCC\",\"FAF\",\"TUE\",\"CALC\",\"MTRANS\"]]\n",
    "\n",
    "y_pred = mymodel.predict(data = data_pred)\n",
    "y_pred.name = \"NObeyesdad\"\n",
    "y_pred.to_csv(\"results/obesity/prediction.csv\", encoding = \"utf-8\", index = True)"
   ]
  }
 ],
 "metadata": {
  "kernelspec": {
   "display_name": "mymodels",
   "language": "python",
   "name": "python3"
  },
  "language_info": {
   "codemirror_mode": {
    "name": "ipython",
    "version": 3
   },
   "file_extension": ".py",
   "mimetype": "text/x-python",
   "name": "python",
   "nbconvert_exporter": "python",
   "pygments_lexer": "ipython3",
   "version": "3.10.16"
  }
 },
 "nbformat": 4,
 "nbformat_minor": 2
}
