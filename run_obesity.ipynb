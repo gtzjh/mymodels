{
 "cells": [
  {
   "cell_type": "code",
   "execution_count": null,
   "metadata": {},
   "outputs": [],
   "source": [
    "import numpy as np\n",
    "import pandas as pd\n",
    "\n",
    "\n",
    "from mymodels import data_engineer\n",
    "from mymodels import MyModel"
   ]
  },
  {
   "cell_type": "code",
   "execution_count": 2,
   "metadata": {},
   "outputs": [],
   "source": [
    "mymodel = MyModel(random_state = 0)"
   ]
  },
  {
   "cell_type": "code",
   "execution_count": 3,
   "metadata": {},
   "outputs": [],
   "source": [
    "data_engineer_pipeline = data_engineer(\n",
    "    outlier_cols = None,\n",
    "    missing_values_cols = None,\n",
    "    impute_method = None,\n",
    "    cat_features = [\"Gender\", \"family_history_with_overweight\", \"FAVC\", \"CAEC\", \"SMOKE\", \"SCC\", \"CALC\", \"MTRANS\"],\n",
    "    encode_method = [\"ordinal\", \"ordinal\", \"ordinal\", \"ordinal\", \"ordinal\", \"ordinal\", \"ordinal\", \"ordinal\"],\n",
    "    # scale_cols = [\"Age\", \"Height\", \"Weight\"],\n",
    "    # scale_method = [\"standard\", \"standard\", \"standard\"],\n",
    "    n_jobs = 5,\n",
    "    verbose = False\n",
    ")"
   ]
  },
  {
   "cell_type": "code",
   "execution_count": 4,
   "metadata": {},
   "outputs": [],
   "source": [
    "data = pd.read_csv(\"data/obesity.zip\", encoding=\"utf-8\",\n",
    "                   na_values=np.nan, index_col=[\"id\"])\n",
    "\n",
    "mymodel.load(\n",
    "    model_name = \"lgbc\",\n",
    "    input_data = data,\n",
    "    y = \"NObeyesdad\",\n",
    "    x_list = [\"Gender\",\"Age\",\"Height\",\"Weight\",\\\n",
    "              \"family_history_with_overweight\",\\\n",
    "              \"FAVC\",\"FCVC\",\"NCP\",\"CAEC\",\"SMOKE\",\\\n",
    "              \"CH2O\",\"SCC\",\"FAF\",\"TUE\",\"CALC\",\"MTRANS\"],\n",
    "    test_ratio = 0.3,\n",
    "    stratify = False,\n",
    "    data_engineer_pipeline = data_engineer_pipeline,\n",
    "    model_configs_path = \"model_configs.yml\"\n",
    ")"
   ]
  },
  {
   "cell_type": "code",
   "execution_count": null,
   "metadata": {},
   "outputs": [],
   "source": [
    "mymodel.diagnose(sample_k = None)"
   ]
  },
  {
   "cell_type": "code",
   "execution_count": 5,
   "metadata": {},
   "outputs": [],
   "source": [
    "mymodel.format(\n",
    "    results_dir = \"results/obesity\",\n",
    "    show = False,\n",
    "    plot_format = \"jpg\",\n",
    "    plot_dpi = 300,\n",
    "    save_optimal_model = True,\n",
    "    save_raw_data = True,\n",
    "    save_shap_values = True\n",
    ")"
   ]
  },
  {
   "cell_type": "code",
   "execution_count": null,
   "metadata": {},
   "outputs": [],
   "source": [
    "mymodel.optimize(\n",
    "    strategy = \"tpe\",\n",
    "    cv = 5,\n",
    "    trials = 100,\n",
    "    n_jobs = 5,\n",
    "    direction = \"maximize\",\n",
    "    eval_function = None\n",
    ")"
   ]
  },
  {
   "cell_type": "code",
   "execution_count": null,
   "metadata": {},
   "outputs": [],
   "source": [
    "mymodel.evaluate(\n",
    "    show_train = True,\n",
    "    dummy = True,\n",
    "    eval_metric = None\n",
    ")"
   ]
  },
  {
   "cell_type": "code",
   "execution_count": null,
   "metadata": {},
   "outputs": [],
   "source": [
    "mymodel.explain(\n",
    "    select_background_data = \"train\",\n",
    "    select_shap_data = \"test\",\n",
    "    sample_background_data_k = 50,\n",
    "    sample_shap_data_k = 50\n",
    ")"
   ]
  },
  {
   "cell_type": "code",
   "execution_count": 10,
   "metadata": {},
   "outputs": [],
   "source": [
    "data_pred = pd.read_csv(\"data/obesity_test.csv\", encoding = \"utf-8\",\n",
    "                        na_values = np.nan, index_col = [\"id\"])\n",
    "\n",
    "data_pred = data_pred.loc[:, [\"Gender\",\"Age\",\"Height\",\"Weight\",\\\n",
    "                              \"family_history_with_overweight\",\\\n",
    "                              \"FAVC\",\"FCVC\",\"NCP\",\"CAEC\",\"SMOKE\",\\\n",
    "                              \"CH2O\",\"SCC\",\"FAF\",\"TUE\",\"CALC\",\"MTRANS\"]]\n",
    "\n",
    "y_pred = mymodel.predict(data = data_pred)\n",
    "y_pred.name = \"NObeyesdad\"\n",
    "y_pred.to_csv(\"results/obesity/prediction.csv\", encoding = \"utf-8\", index = True)"
   ]
  }
 ],
 "metadata": {
  "kernelspec": {
   "display_name": "mymodels",
   "language": "python",
   "name": "python3"
  },
  "language_info": {
   "codemirror_mode": {
    "name": "ipython",
    "version": 3
   },
   "file_extension": ".py",
   "mimetype": "text/x-python",
   "name": "python",
   "nbconvert_exporter": "python",
   "pygments_lexer": "ipython3",
   "version": "3.10.16"
  }
 },
 "nbformat": 4,
 "nbformat_minor": 2
}
