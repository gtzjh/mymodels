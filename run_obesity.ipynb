{
 "cells": [
  {
   "cell_type": "code",
   "execution_count": null,
   "metadata": {},
   "outputs": [],
   "source": [
    "import numpy as np\n",
    "import pandas as pd\n",
    "from mymodels.data_engineer import data_engineer\n",
    "from mymodels.pipeline import MyPipeline"
   ]
  },
  {
   "cell_type": "code",
   "execution_count": 2,
   "metadata": {},
   "outputs": [],
   "source": [
    "mymodel = MyPipeline(\n",
    "    results_dir = \"results/obesity\",\n",
    "    random_state = 0,\n",
    "    stratify = True,\n",
    "    show = False,\n",
    "    plot_format = \"jpg\",\n",
    "    plot_dpi = 500\n",
    ")"
   ]
  },
  {
   "cell_type": "code",
   "execution_count": null,
   "metadata": {},
   "outputs": [],
   "source": [
    "data = pd.read_csv(\"data/obesity.csv\", encoding=\"utf-8\",\n",
    "                   na_values=np.nan, index_col=[\"id\"])\n",
    "mymodel.load(\n",
    "    input_data = data,\n",
    "    y = \"0be1dad\",\n",
    "    x_list = [\"Gender\",\"Age\",\"Height\",\"Weight\",\\\n",
    "              \"family_history_with_overweight\",\\\n",
    "              \"FAVC\",\"FCVC\",\"NCP\",\"CAEC\",\"SMOKE\",\\\n",
    "              \"CH2O\",\"SCC\",\"FAF\",\"TUE\",\"CALC\",\"MTRANS\"],\n",
    "    test_ratio = 0.3,\n",
    "    inspect = False\n",
    ")"
   ]
  },
  {
   "cell_type": "code",
   "execution_count": null,
   "metadata": {},
   "outputs": [],
   "source": [
    "mymodel.diagnose(sample_k=None)"
   ]
  },
  {
   "cell_type": "code",
   "execution_count": 5,
   "metadata": {},
   "outputs": [],
   "source": [
    "# Return an instance of `sklearn.pipeline.Pipeline` object\n",
    "data_engineer_pipeline = data_engineer(\n",
    "    outlier_cols = None,\n",
    "    missing_values_cols = None,\n",
    "    impute_method = None,\n",
    "    cat_features = [\"Gender\", \"CAEC\", \"CALC\", \"MTRANS\"],\n",
    "    encode_method = [\"onehot\", \"ordinal\", \"ordinal\", \"ordinal\"],\n",
    "    scale_cols = [\"Age\", \"Height\", \"Weight\"],\n",
    "    scale_method = [\"standard\", \"standard\", \"standard\"],\n",
    "    n_jobs = 5,\n",
    "    verbose = False\n",
    ")"
   ]
  },
  {
   "cell_type": "code",
   "execution_count": null,
   "metadata": {},
   "outputs": [],
   "source": [
    "mymodel.optimize(\n",
    "    model_name = \"knc\",\n",
    "    data_engineer_pipeline = data_engineer_pipeline,\n",
    "    strategy = \"tpe\",\n",
    "    cv = 5,\n",
    "    trials = 10,\n",
    "    n_jobs = 5,\n",
    "    # cat_features = [\"Gender\", \"CAEC\", \"CALC\", \"MTRANS\"],  # For CatBoost ONLY\n",
    "    direction = \"maximize\",\n",
    "    eval_function = None,\n",
    "    optimize_history = True,\n",
    "    save_optimal_params = True,\n",
    "    save_optimal_model = True\n",
    ")"
   ]
  },
  {
   "cell_type": "code",
   "execution_count": null,
   "metadata": {},
   "outputs": [],
   "source": [
    "mymodel.evaluate(save_raw_data = True)"
   ]
  },
  {
   "cell_type": "code",
   "execution_count": null,
   "metadata": {},
   "outputs": [],
   "source": [
    "mymodel.explain(\n",
    "    select_background_data = \"train\",\n",
    "    select_shap_data = \"test\",\n",
    "    sample_background_data_k = 50,\n",
    "    sample_shap_data_k = 50,\n",
    "    output_raw_data = True\n",
    ")"
   ]
  }
 ],
 "metadata": {
  "kernelspec": {
   "display_name": "mymodels",
   "language": "python",
   "name": "python3"
  },
  "language_info": {
   "codemirror_mode": {
    "name": "ipython",
    "version": 3
   },
   "file_extension": ".py",
   "mimetype": "text/x-python",
   "name": "python",
   "nbconvert_exporter": "python",
   "pygments_lexer": "ipython3",
   "version": "3.10.16"
  }
 },
 "nbformat": 4,
 "nbformat_minor": 2
}
