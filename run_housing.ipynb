{
 "cells": [
  {
   "cell_type": "code",
   "execution_count": 19,
   "metadata": {},
   "outputs": [],
   "source": [
    "import numpy as np\n",
    "import pandas as pd\n",
    "\n",
    "\n",
    "from mymodels import data_engineer\n",
    "from mymodels import MyModel"
   ]
  },
  {
   "cell_type": "code",
   "execution_count": 20,
   "metadata": {},
   "outputs": [],
   "source": [
    "mymodel = MyModel(random_state = 0)"
   ]
  },
  {
   "cell_type": "code",
   "execution_count": null,
   "metadata": {},
   "outputs": [],
   "source": [
    "data_engineer_pipeline = data_engineer(\n",
    "    missing_values_cols = [\"CRIM\", \"ZN\", \"INDUS\", \"CHAS\", \"AGE\", \"LSTAT\"],\n",
    "    impute_method = [\"median\", \"median\", \"median\", \"median\", \"median\", \"median\"],\n",
    "    cat_features = None,\n",
    "    encode_method = None,\n",
    "    # scale_cols = [\"CRIM\", \"ZN\"],\n",
    "    # scale_method = [\"standard\", \"minmax\"],\n",
    "    n_jobs = -1,\n",
    "    verbose = False\n",
    ")"
   ]
  },
  {
   "cell_type": "code",
   "execution_count": 22,
   "metadata": {},
   "outputs": [],
   "source": [
    "data = pd.read_csv(\"data/housing.zip\", encoding = \"utf-8\", \n",
    "                   na_values = np.nan, index_col = [\"ID\"]).sample(300)\n",
    "\n",
    "mymodel.load(\n",
    "    model_name = \"rfr\",\n",
    "    input_data = data,\n",
    "    y = \"MEDV\",\n",
    "    x_list = [\"CRIM\", \"ZN\", \"INDUS\", \"CHAS\", \"NOX\", \"RM\", \\\n",
    "              \"AGE\", \"DIS\", \"RAD\", \"TAX\", \"PTRATIO\", \"B\", \"LSTAT\"],\n",
    "    test_ratio = 0.3,\n",
    "    stratify = False,\n",
    "    data_engineer_pipeline = data_engineer_pipeline,\n",
    "    model_configs_path = \"model_configs.yml\"\n",
    ")"
   ]
  },
  {
   "cell_type": "code",
   "execution_count": 23,
   "metadata": {},
   "outputs": [],
   "source": [
    "mymodel.format(\n",
    "    results_dir = \"results/housing\",\n",
    "    show = False,\n",
    "    plot_format = \"jpg\",\n",
    "    plot_dpi = 500,\n",
    "    save_optimal_model = True,\n",
    "    save_raw_data = True\n",
    ")"
   ]
  },
  {
   "cell_type": "code",
   "execution_count": 24,
   "metadata": {},
   "outputs": [
    {
     "name": "stderr",
     "output_type": "stream",
     "text": [
      "WARNING:root:\n",
      "Data diagnosis will be performing on TRAINING DATASET ONLY!!!\n",
      "\n",
      "WARNING:root:  - RAD and TAX: 0.924\n"
     ]
    },
    {
     "name": "stdout",
     "output_type": "stream",
     "text": [
      "\n",
      "Numerical Features Statistics:\n",
      "Feature Name  Count  Null Count Null Ratio    Min    25% Median    75%    Max   Mean    Std Kurtosis Skewness\n",
      "        CRIM    210           8      3.81%   0.01   0.07   0.24   2.22  67.92   3.15   7.61    30.88     4.79\n",
      "          ZN    210          11      5.24%   0.00   0.00   0.00  20.00  95.00  11.44  22.16     4.10     2.19\n",
      "       INDUS    210           9      4.29%   0.46   5.19   8.14  18.10  27.74  10.93   6.89    -1.26     0.37\n",
      "        CHAS    210          10      4.76%   0.00   0.00   0.00   0.00   1.00   0.07   0.26     9.63     3.40\n",
      "         NOX    210           0      0.00%   0.40   0.45   0.52   0.62   0.87   0.55   0.11    -0.09     0.74\n",
      "          RM    210           0      0.00%   3.56   5.89   6.21   6.67   8.78   6.32   0.70     1.90     0.48\n",
      "         AGE    210           7      3.33%   2.90  37.80  73.40  92.80 100.00  65.38  29.84    -1.17    -0.47\n",
      "         DIS    210           0      0.00%   1.29   2.06   3.42   5.40  12.13   3.94   2.19     0.45     0.93\n",
      "         RAD    210           0      0.00%   1.00   4.00   5.00   8.00  24.00   9.36   8.54    -0.70     1.08\n",
      "         TAX    210           0      0.00% 187.00 277.00 311.00 608.75 711.00 395.12 168.58    -0.99     0.78\n",
      "     PTRATIO    210           0      0.00%  12.60  17.10  19.10  20.20  22.00  18.39   2.22    -0.25    -0.83\n",
      "           B    210           0      0.00%   3.65 374.87 390.94 395.94 396.90 359.35  85.63     8.68    -3.09\n",
      "       LSTAT    210           9      4.29%   1.73   6.56  10.58  16.65  34.41  12.43   7.48     0.27     0.92\n"
     ]
    }
   ],
   "source": [
    "mymodel.diagnose(sample_k = None)"
   ]
  },
  {
   "cell_type": "code",
   "execution_count": 25,
   "metadata": {},
   "outputs": [
    {
     "name": "stderr",
     "output_type": "stream",
     "text": [
      "Best trial: 8. Best value: 0.802179: 100%|██████████| 10/10 [00:28<00:00,  2.89s/it]\n"
     ]
    }
   ],
   "source": [
    "mymodel.optimize(\n",
    "    strategy = \"tpe\",\n",
    "    cv = 5,\n",
    "    trials = 10,\n",
    "    n_jobs = 5,\n",
    "    direction = \"maximize\",\n",
    "    eval_function = None\n",
    ")"
   ]
  },
  {
   "cell_type": "code",
   "execution_count": 26,
   "metadata": {},
   "outputs": [
    {
     "name": "stderr",
     "output_type": "stream",
     "text": [
      "WARNING:root:\n",
      "When using dummy estimator,                         a warning about zero division will be printed,                         JUST IGNORE IT.\n",
      "\n"
     ]
    },
    {
     "name": "stdout",
     "output_type": "stream",
     "text": [
      "{\n",
      "    \"model\": {\n",
      "        \"test\": {\n",
      "            \"R2\": 0.8538595686199106,\n",
      "            \"RMSE\": 3.319752524703978,\n",
      "            \"MAE\": 2.398369022934521\n",
      "        },\n",
      "        \"train\": {\n",
      "            \"R2\": 0.9244567771756836,\n",
      "            \"RMSE\": 2.5535573651507937,\n",
      "            \"MAE\": 1.70578234511813\n",
      "        }\n",
      "    },\n",
      "    \"dummy\": {\n",
      "        \"test\": {\n",
      "            \"R2\": -0.0011006040968644104,\n",
      "            \"RMSE\": 8.688791565356667,\n",
      "            \"MAE\": 6.28079365079365\n",
      "        },\n",
      "        \"train\": {\n",
      "            \"R2\": 0.0,\n",
      "            \"RMSE\": 9.29068775234453,\n",
      "            \"MAE\": 6.748680272108844\n",
      "        }\n",
      "    }\n",
      "}\n"
     ]
    }
   ],
   "source": [
    "mymodel.evaluate(\n",
    "    show_train = True,\n",
    "    dummy = True,\n",
    "    eval_metric = None\n",
    ")"
   ]
  },
  {
   "cell_type": "code",
   "execution_count": null,
   "metadata": {},
   "outputs": [],
   "source": [
    "mymodel.explain(\n",
    "    select_background_data = \"train\",\n",
    "    select_shap_data = \"test\",\n",
    "    sample_background_data_k = 50,\n",
    "    sample_shap_data_k = 50,\n",
    "    max_display = None\n",
    ")"
   ]
  }
 ],
 "metadata": {
  "kernelspec": {
   "display_name": "mymodels",
   "language": "python",
   "name": "python3"
  },
  "language_info": {
   "codemirror_mode": {
    "name": "ipython",
    "version": 3
   },
   "file_extension": ".py",
   "mimetype": "text/x-python",
   "name": "python",
   "nbconvert_exporter": "python",
   "pygments_lexer": "ipython3",
   "version": "3.10.16"
  }
 },
 "nbformat": 4,
 "nbformat_minor": 2
}
