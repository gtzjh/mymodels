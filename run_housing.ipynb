{
 "cells": [
  {
   "cell_type": "code",
   "execution_count": null,
   "metadata": {},
   "outputs": [],
   "source": [
    "from mymodels.pipeline import MyPipeline\n",
    "from mymodels.engineer import data_engineer\n",
    "\n",
    "\"\"\"\n",
    "# Global settings for font\n",
    "import matplotlib.pyplot as plt\n",
    "plt.rcParams['font.family'] = 'Times New Roman'\n",
    "\"\"\"\n",
    "\n",
    "\"\"\"\n",
    "# User-defined pipeline\n",
    "from sklearn.pipeline import Pipeline\n",
    "self_defined_data_engineer_pipeline = Pipeline()\n",
    "\"\"\"\n",
    "\n",
    "\"\"\"\n",
    "# For debugging\n",
    "import logging\n",
    "logging.basicConfig(\n",
    "    level = logging.DEBUG,\n",
    "    format = \"%(asctime)s - %(levelname)s - %(message)s\"\n",
    ")\n",
    "\"\"\""
   ]
  },
  {
   "cell_type": "code",
   "execution_count": 2,
   "metadata": {},
   "outputs": [],
   "source": [
    "mymodel = MyPipeline(\n",
    "    results_dir = \"results/housing\",\n",
    "    random_state = 0,\n",
    "    show = False,\n",
    "    plot_format = \"jpg\",\n",
    "    plot_dpi = 500\n",
    ")"
   ]
  },
  {
   "cell_type": "code",
   "execution_count": 3,
   "metadata": {},
   "outputs": [],
   "source": [
    "mymodel.load(\n",
    "    file_path = \"data/housing.csv\",\n",
    "    y = \"MEDV\",\n",
    "    x_list = [\"CRIM\", \"ZN\", \"INDUS\", \"CHAS\", \"NOX\", \"RM\", \\\n",
    "                \"AGE\", \"DIS\", \"RAD\", \"TAX\", \"PTRATIO\", \"B\", \"LSTAT\"],\n",
    "    index_col = [\"ID\"],\n",
    "    test_ratio = 0.3,\n",
    "    inspect = False\n",
    ")"
   ]
  },
  {
   "cell_type": "code",
   "execution_count": 4,
   "metadata": {},
   "outputs": [],
   "source": [
    "# Return an instance of `sklearn.pipeline.Pipeline` object\n",
    "# User can define their own pipeline\n",
    "data_engineer_pipeline = data_engineer(\n",
    "    outlier_cols = None,\n",
    "    missing_values_cols = [\"CRIM\", \"ZN\", \"INDUS\", \"CHAS\", \"AGE\", \"LSTAT\"],\n",
    "    impute_method = [\"median\", \"median\", \"median\", \"median\", \"median\", \"median\"],\n",
    "    cat_features = None,\n",
    "    encode_method = None,\n",
    "    # scale_cols = [\"CRIM\", \"ZN\"],\n",
    "    # scale_method = [\"standard\", \"minmax\"],\n",
    "    n_jobs = 5,\n",
    "    verbose = False\n",
    ")"
   ]
  },
  {
   "cell_type": "code",
   "execution_count": null,
   "metadata": {},
   "outputs": [],
   "source": [
    "mymodel.optimize(\n",
    "    model_name = \"mlpr\",\n",
    "    data_engineer_pipeline = data_engineer_pipeline,\n",
    "    cv = 5,\n",
    "    trials = 10,\n",
    "    n_jobs = 5,\n",
    "    optimize_history = True,\n",
    "    save_optimal_params = True,\n",
    "    save_optimal_model = True\n",
    ")"
   ]
  },
  {
   "cell_type": "code",
   "execution_count": null,
   "metadata": {},
   "outputs": [],
   "source": [
    "mymodel.evaluate(save_raw_data = True)"
   ]
  },
  {
   "cell_type": "code",
   "execution_count": null,
   "metadata": {},
   "outputs": [],
   "source": [
    "mymodel.explain(\n",
    "    select_background_data = \"train\",\n",
    "    select_shap_data = \"test\",\n",
    "    sample_background_data_k = 50,\n",
    "    sample_shap_data_k = 50,\n",
    "    output_raw_data = True\n",
    ")"
   ]
  }
 ],
 "metadata": {
  "kernelspec": {
   "display_name": "mymodels",
   "language": "python",
   "name": "python3"
  },
  "language_info": {
   "codemirror_mode": {
    "name": "ipython",
    "version": 3
   },
   "file_extension": ".py",
   "mimetype": "text/x-python",
   "name": "python",
   "nbconvert_exporter": "python",
   "pygments_lexer": "ipython3",
   "version": "3.10.16"
  }
 },
 "nbformat": 4,
 "nbformat_minor": 2
}
