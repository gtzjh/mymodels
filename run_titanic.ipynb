{
 "cells": [
  {
   "cell_type": "code",
   "execution_count": 1,
   "metadata": {},
   "outputs": [
    {
     "name": "stderr",
     "output_type": "stream",
     "text": [
      "c:\\anaconda3\\envs\\mymodels\\lib\\site-packages\\tqdm\\auto.py:21: TqdmWarning: IProgress not found. Please update jupyter and ipywidgets. See https://ipywidgets.readthedocs.io/en/stable/user_install.html\n",
      "  from .autonotebook import tqdm as notebook_tqdm\n"
     ]
    },
    {
     "data": {
      "text/plain": [
       "'\\n# For debugging\\nimport logging\\nlogging.basicConfig(\\n    level = logging.DEBUG,\\n    format = \"%(asctime)s - %(levelname)s - %(message)s\"\\n)\\n'"
      ]
     },
     "execution_count": 1,
     "metadata": {},
     "output_type": "execute_result"
    }
   ],
   "source": [
    "from mymodels.data_engineer import data_engineer\n",
    "from mymodels.pipeline import MyPipeline\n",
    "\n",
    "\n",
    "\"\"\"\n",
    "# Global settings for font\n",
    "import matplotlib.pyplot as plt\n",
    "plt.rcParams['font.family'] = 'Times New Roman'\n",
    "\"\"\"\n",
    "\n",
    "\n",
    "\"\"\"\n",
    "# User-defined pipeline\n",
    "from sklearn.pipeline import Pipeline\n",
    "self_defined_data_engineer_pipeline = Pipeline()\n",
    "\"\"\"\n",
    "\n",
    "\n",
    "\"\"\"\n",
    "# For debugging\n",
    "import logging\n",
    "logging.basicConfig(\n",
    "    level = logging.DEBUG,\n",
    "    format = \"%(asctime)s - %(levelname)s - %(message)s\"\n",
    ")\n",
    "\"\"\""
   ]
  },
  {
   "cell_type": "code",
   "execution_count": 2,
   "metadata": {},
   "outputs": [],
   "source": [
    "mymodel = MyPipeline(\n",
    "    results_dir = \"results/titanic\",\n",
    "    random_state = 0,\n",
    "    show = False,\n",
    "    plot_format = \"jpg\",\n",
    "    plot_dpi = 500\n",
    ")"
   ]
  },
  {
   "cell_type": "code",
   "execution_count": 3,
   "metadata": {},
   "outputs": [],
   "source": [
    "mymodel.load(\n",
    "    file_path = \"data/titanic.csv\",\n",
    "    y = \"Survived\",\n",
    "    x_list = [\"Pclass\", \"Sex\", \"Embarked\", \"Age\", \"SibSp\", \"Parch\", \"Fare\"],\n",
    "    index_col = [\"PassengerId\"],\n",
    "    test_ratio = 0.3,\n",
    "    inspect = False\n",
    ")"
   ]
  },
  {
   "cell_type": "code",
   "execution_count": 4,
   "metadata": {},
   "outputs": [
    {
     "name": "stdout",
     "output_type": "stream",
     "text": [
      "\n",
      "=========================================================\n",
      "Data diagnosis should be performed on TRAINING DATA ONLY.\n",
      "=========================================================\n",
      "\n",
      "==========================================\n",
      "DATA DESCRIPTION\n",
      "\n",
      "X_train shape: (623, 7)\n",
      "\n",
      "Y_train shape: (623,)\n",
      "==========================================\n",
      "==========================================\n",
      "MISSING VALUES DIAGNOSIS\n",
      "\n",
      "X_train info:\n",
      "<class 'pandas.core.frame.DataFrame'>\n",
      "Index: 623 entries, 858 to 685\n",
      "Data columns (total 7 columns):\n",
      " #   Column    Non-Null Count  Dtype  \n",
      "---  ------    --------------  -----  \n",
      " 0   Pclass    623 non-null    int64  \n",
      " 1   Sex       623 non-null    object \n",
      " 2   Embarked  621 non-null    object \n",
      " 3   Age       502 non-null    float64\n",
      " 4   SibSp     623 non-null    int64  \n",
      " 5   Parch     623 non-null    int64  \n",
      " 6   Fare      623 non-null    float64\n",
      "dtypes: float64(2), int64(3), object(2)\n",
      "memory usage: 38.9+ KB\n",
      "None\n",
      "\n",
      "Y_train info:\n",
      "<class 'pandas.core.series.Series'>\n",
      "Index: 623 entries, 858 to 685\n",
      "Series name: Survived\n",
      "Non-Null Count  Dtype\n",
      "--------------  -----\n",
      "623 non-null    int64\n",
      "dtypes: int64(1)\n",
      "memory usage: 9.7 KB\n",
      "None\n",
      "==========================================\n",
      "\n",
      "Categorical features: []\n",
      "\n",
      "Numerical features: ['Pclass', 'Age', 'SibSp', 'Parch', 'Fare']\n",
      "\n",
      "Creating distribution plots for numerical features...\n",
      "\n",
      "Creating correlation plots for numerical features...\n",
      "\n",
      "Distribution plots saved to: results\\titanic\\data_distribution\n",
      "Correlation plots saved to: results\\titanic\\data_correlation\n"
     ]
    }
   ],
   "source": [
    "mymodel.diagnose(sample_k=None)"
   ]
  },
  {
   "cell_type": "code",
   "execution_count": 5,
   "metadata": {},
   "outputs": [],
   "source": [
    "# Return an instance of `sklearn.pipeline.Pipeline` object\n",
    "# User can define their own pipeline\n",
    "data_engineer_pipeline = data_engineer(\n",
    "    outlier_cols = None,\n",
    "    missing_values_cols = [\"Age\", \"Embarked\"],\n",
    "    impute_method = [\"mean\", \"most_frequent\"],\n",
    "    cat_features = [\"Sex\", \"Embarked\"],\n",
    "    encode_method = [\"onehot\", \"onehot\"],\n",
    "    # scale_cols = [\"Fare\"],\n",
    "    # scale_method = [\"standard\"],\n",
    "    n_jobs = 5,\n",
    "    verbose = False\n",
    ")"
   ]
  },
  {
   "cell_type": "code",
   "execution_count": 6,
   "metadata": {},
   "outputs": [
    {
     "name": "stderr",
     "output_type": "stream",
     "text": [
      "Best trial: 3. Best value: 0.820874: 100%|██████████| 10/10 [00:07<00:00,  1.42it/s]\n"
     ]
    }
   ],
   "source": [
    "mymodel.optimize(\n",
    "    model_name = \"xgbc\",\n",
    "    data_engineer_pipeline = data_engineer_pipeline,\n",
    "    cv = 5,\n",
    "    trials = 10,\n",
    "    n_jobs = 5,\n",
    "    cat_features = None,  # For CatBoost ONLY\n",
    "    optimize_history = True,\n",
    "    save_optimal_params = True,\n",
    "    save_optimal_model = True\n",
    ")"
   ]
  },
  {
   "cell_type": "code",
   "execution_count": 7,
   "metadata": {},
   "outputs": [
    {
     "name": "stdout",
     "output_type": "stream",
     "text": [
      "Accuracy of xgbc: \n",
      " {\n",
      "    \"test_accuracy\": 0.8395522388059702,\n",
      "    \"test_precision\": 0.8383645141313706,\n",
      "    \"test_recall\": 0.8395522388059702,\n",
      "    \"test_f1\": 0.8374262441964279,\n",
      "    \"test_kappa\": 0.6492146596858639,\n",
      "    \"train_accuracy\": 0.8860353130016051,\n",
      "    \"train_precision\": 0.8865263169171381,\n",
      "    \"train_recall\": 0.8860353130016051,\n",
      "    \"train_f1\": 0.8847418120847637,\n",
      "    \"train_kappa\": 0.7555228846674662\n",
      "}\n"
     ]
    }
   ],
   "source": [
    "mymodel.evaluate(save_raw_data = True)"
   ]
  },
  {
   "cell_type": "code",
   "execution_count": 8,
   "metadata": {},
   "outputs": [],
   "source": [
    "mymodel.explain(\n",
    "    select_background_data = \"train\",\n",
    "    select_shap_data = \"test\",\n",
    "    sample_background_data_k = 50,\n",
    "    sample_shap_data_k = 50,\n",
    "    output_raw_data = True\n",
    ")"
   ]
  }
 ],
 "metadata": {
  "kernelspec": {
   "display_name": "mymodels",
   "language": "python",
   "name": "python3"
  },
  "language_info": {
   "codemirror_mode": {
    "name": "ipython",
    "version": 3
   },
   "file_extension": ".py",
   "mimetype": "text/x-python",
   "name": "python",
   "nbconvert_exporter": "python",
   "pygments_lexer": "ipython3",
   "version": "3.10.16"
  }
 },
 "nbformat": 4,
 "nbformat_minor": 2
}
